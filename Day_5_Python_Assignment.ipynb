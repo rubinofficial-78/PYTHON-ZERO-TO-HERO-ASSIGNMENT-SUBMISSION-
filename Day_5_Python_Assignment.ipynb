{
  "nbformat": 4,
  "nbformat_minor": 0,
  "metadata": {
    "colab": {
      "name": "Day 5 Python Assignment.ipynb",
      "provenance": [],
      "authorship_tag": "ABX9TyOphE75iPJCQm97TBGAjOlf",
      "include_colab_link": true
    },
    "kernelspec": {
      "name": "python3",
      "display_name": "Python 3"
    },
    "language_info": {
      "name": "python"
    }
  },
  "cells": [
    {
      "cell_type": "markdown",
      "metadata": {
        "id": "view-in-github",
        "colab_type": "text"
      },
      "source": [
        "<a href=\"https://colab.research.google.com/github/rubinofficial-78/PYTHON-ZERO-TO-HERO-ASSIGNMENT-SUBMISSION-/blob/main/Day_5_Python_Assignment.ipynb\" target=\"_parent\"><img src=\"https://colab.research.google.com/assets/colab-badge.svg\" alt=\"Open In Colab\"/></a>"
      ]
    },
    {
      "cell_type": "code",
      "metadata": {
        "colab": {
          "base_uri": "https://localhost:8080/"
        },
        "id": "yfPH9keAf7YJ",
        "outputId": "d5dba4ce-8249-47a2-a73d-4b22347f217a"
      },
      "source": [
        "#Expressing List with its Methods\n",
        "lst = ['Rubin','Kumar','Ramdeepak','Sanjay']\n",
        "type(lst)"
      ],
      "execution_count": 11,
      "outputs": [
        {
          "output_type": "execute_result",
          "data": {
            "text/plain": [
              "list"
            ]
          },
          "metadata": {},
          "execution_count": 11
        }
      ]
    },
    {
      "cell_type": "code",
      "metadata": {
        "colab": {
          "base_uri": "https://localhost:8080/"
        },
        "id": "Ndux4QpKgWn7",
        "outputId": "65d66fad-2e03-449c-ba4e-18f2e4c9be0c"
      },
      "source": [
        "lst.append('Sai sidharth')\n",
        "lst"
      ],
      "execution_count": 12,
      "outputs": [
        {
          "output_type": "execute_result",
          "data": {
            "text/plain": [
              "['Rubin', 'Kumar', 'Ramdeepak', 'Sanjay', 'Sai sidharth']"
            ]
          },
          "metadata": {},
          "execution_count": 12
        }
      ]
    },
    {
      "cell_type": "code",
      "metadata": {
        "colab": {
          "base_uri": "https://localhost:8080/"
        },
        "id": "15im_5v5gdfD",
        "outputId": "332b46de-6b90-48e4-e203-2d7c5f077558"
      },
      "source": [
        "lst.insert(3,'Manoj')\n",
        "lst"
      ],
      "execution_count": 13,
      "outputs": [
        {
          "output_type": "execute_result",
          "data": {
            "text/plain": [
              "['Rubin', 'Kumar', 'Ramdeepak', 'Manoj', 'Sanjay', 'Sai sidharth']"
            ]
          },
          "metadata": {},
          "execution_count": 13
        }
      ]
    },
    {
      "cell_type": "code",
      "metadata": {
        "colab": {
          "base_uri": "https://localhost:8080/"
        },
        "id": "FXfJ3S2zgoLO",
        "outputId": "f1acb7ba-fc95-40c9-a894-d9e6f52e27e5"
      },
      "source": [
        "lst.pop(5)\n",
        "lst"
      ],
      "execution_count": 14,
      "outputs": [
        {
          "output_type": "execute_result",
          "data": {
            "text/plain": [
              "['Rubin', 'Kumar', 'Ramdeepak', 'Manoj', 'Sanjay']"
            ]
          },
          "metadata": {},
          "execution_count": 14
        }
      ]
    },
    {
      "cell_type": "code",
      "metadata": {
        "colab": {
          "base_uri": "https://localhost:8080/"
        },
        "id": "QfGVPOhyhD15",
        "outputId": "a4d8256f-5e32-4bae-df8d-c29a664c63ab"
      },
      "source": [
        "lst.reverse()\n",
        "lst"
      ],
      "execution_count": 15,
      "outputs": [
        {
          "output_type": "execute_result",
          "data": {
            "text/plain": [
              "['Sanjay', 'Manoj', 'Ramdeepak', 'Kumar', 'Rubin']"
            ]
          },
          "metadata": {},
          "execution_count": 15
        }
      ]
    },
    {
      "cell_type": "code",
      "metadata": {
        "colab": {
          "base_uri": "https://localhost:8080/"
        },
        "id": "NI9JaVjKhKhx",
        "outputId": "5addff8b-7626-4a5b-e277-e44f1ad82abf"
      },
      "source": [
        "lst.copy()\n",
        "lst"
      ],
      "execution_count": 16,
      "outputs": [
        {
          "output_type": "execute_result",
          "data": {
            "text/plain": [
              "['Sanjay', 'Manoj', 'Ramdeepak', 'Kumar', 'Rubin']"
            ]
          },
          "metadata": {},
          "execution_count": 16
        }
      ]
    },
    {
      "cell_type": "code",
      "metadata": {
        "colab": {
          "base_uri": "https://localhost:8080/"
        },
        "id": "dTClSPMihekd",
        "outputId": "7bcd3636-70f2-4e71-fff6-2408311a487b"
      },
      "source": [
        "#Expressing Tuple with its Methods\n",
        "tup = (\"Rubin\",\"Kumar\",78)\n",
        "type(tup)"
      ],
      "execution_count": 22,
      "outputs": [
        {
          "output_type": "execute_result",
          "data": {
            "text/plain": [
              "tuple"
            ]
          },
          "metadata": {},
          "execution_count": 22
        }
      ]
    },
    {
      "cell_type": "code",
      "metadata": {
        "colab": {
          "base_uri": "https://localhost:8080/"
        },
        "id": "2qiG_0K2hsD_",
        "outputId": "3852009b-b099-42b5-c08c-e2108bb64ebc"
      },
      "source": [
        "tup.count(78)"
      ],
      "execution_count": 29,
      "outputs": [
        {
          "output_type": "execute_result",
          "data": {
            "text/plain": [
              "1"
            ]
          },
          "metadata": {},
          "execution_count": 29
        }
      ]
    },
    {
      "cell_type": "code",
      "metadata": {
        "colab": {
          "base_uri": "https://localhost:8080/"
        },
        "id": "5L4-_OtAiX_B",
        "outputId": "e5696463-ba50-4cf7-eb86-3318aabf2f2b"
      },
      "source": [
        "tup.index(78)"
      ],
      "execution_count": 31,
      "outputs": [
        {
          "output_type": "execute_result",
          "data": {
            "text/plain": [
              "2"
            ]
          },
          "metadata": {},
          "execution_count": 31
        }
      ]
    },
    {
      "cell_type": "code",
      "metadata": {
        "colab": {
          "base_uri": "https://localhost:8080/"
        },
        "id": "WtAeGGEBpAMx",
        "outputId": "90d69a54-d004-4c99-e01e-40f386bb0d95"
      },
      "source": [
        "#Expressing Set with its Methods\n",
        "st = {\"Rose\",\"Lotus\",\"Daisy\",\"Marigold\",\"Lavender\"}\n",
        "type(st)"
      ],
      "execution_count": 68,
      "outputs": [
        {
          "output_type": "execute_result",
          "data": {
            "text/plain": [
              "set"
            ]
          },
          "metadata": {},
          "execution_count": 68
        }
      ]
    },
    {
      "cell_type": "code",
      "metadata": {
        "colab": {
          "base_uri": "https://localhost:8080/"
        },
        "id": "nZ4UEtuBpQOI",
        "outputId": "8ff1f2d4-2b30-48af-d68f-69359949184b"
      },
      "source": [
        "st.add(\"Lilly\")\n",
        "st"
      ],
      "execution_count": 69,
      "outputs": [
        {
          "output_type": "execute_result",
          "data": {
            "text/plain": [
              "{'Daisy', 'Lavender', 'Lilly', 'Lotus', 'Marigold', 'Rose'}"
            ]
          },
          "metadata": {},
          "execution_count": 69
        }
      ]
    },
    {
      "cell_type": "code",
      "metadata": {
        "colab": {
          "base_uri": "https://localhost:8080/"
        },
        "id": "VCjNb59upW4A",
        "outputId": "cc394945-879e-4a77-cd39-5d4c736adb0d"
      },
      "source": [
        "st.discard(\"Lotus\")\n",
        "st"
      ],
      "execution_count": 70,
      "outputs": [
        {
          "output_type": "execute_result",
          "data": {
            "text/plain": [
              "{'Daisy', 'Lavender', 'Lilly', 'Marigold', 'Rose'}"
            ]
          },
          "metadata": {},
          "execution_count": 70
        }
      ]
    },
    {
      "cell_type": "code",
      "metadata": {
        "colab": {
          "base_uri": "https://localhost:8080/"
        },
        "id": "ccteWOVcpgPz",
        "outputId": "ec9c9ad0-386b-44bd-fab9-2c92fe02aac7"
      },
      "source": [
        "st.remove(\"Marigold\")\n",
        "st"
      ],
      "execution_count": 71,
      "outputs": [
        {
          "output_type": "execute_result",
          "data": {
            "text/plain": [
              "{'Daisy', 'Lavender', 'Lilly', 'Rose'}"
            ]
          },
          "metadata": {},
          "execution_count": 71
        }
      ]
    },
    {
      "cell_type": "code",
      "metadata": {
        "colab": {
          "base_uri": "https://localhost:8080/"
        },
        "id": "jRZ-03tQpmGw",
        "outputId": "52e3cf8a-057b-4501-f63a-4571529fd90d"
      },
      "source": [
        "st.copy()\n",
        "st"
      ],
      "execution_count": 72,
      "outputs": [
        {
          "output_type": "execute_result",
          "data": {
            "text/plain": [
              "{'Daisy', 'Lavender', 'Lilly', 'Rose'}"
            ]
          },
          "metadata": {},
          "execution_count": 72
        }
      ]
    },
    {
      "cell_type": "code",
      "metadata": {
        "colab": {
          "base_uri": "https://localhost:8080/"
        },
        "id": "k5l77ULopxUN",
        "outputId": "3f9a1c0e-1c27-424c-e08f-61988ea86e45"
      },
      "source": [
        "st.pop()\n",
        "st"
      ],
      "execution_count": 73,
      "outputs": [
        {
          "output_type": "execute_result",
          "data": {
            "text/plain": [
              "{'Lavender', 'Lilly', 'Rose'}"
            ]
          },
          "metadata": {},
          "execution_count": 73
        }
      ]
    },
    {
      "cell_type": "code",
      "metadata": {
        "colab": {
          "base_uri": "https://localhost:8080/"
        },
        "id": "lXms48Sip18i",
        "outputId": "811a18ab-a74f-4176-cc87-6fcaad6ed269"
      },
      "source": [
        "#Expressing Dictionary with its Methods\n",
        "dct = {'name':'Rubin','surname':'Kumar','std':'IICSE','section':'B'}\n",
        "type(dct)"
      ],
      "execution_count": 75,
      "outputs": [
        {
          "output_type": "execute_result",
          "data": {
            "text/plain": [
              "dict"
            ]
          },
          "metadata": {},
          "execution_count": 75
        }
      ]
    },
    {
      "cell_type": "code",
      "metadata": {
        "colab": {
          "base_uri": "https://localhost:8080/",
          "height": 35
        },
        "id": "Iyh9Z5fIqz4W",
        "outputId": "2158a2dc-998d-4d8e-da55-0d0bca8c480d"
      },
      "source": [
        "dct.get(\"surname\")"
      ],
      "execution_count": 77,
      "outputs": [
        {
          "output_type": "execute_result",
          "data": {
            "application/vnd.google.colaboratory.intrinsic+json": {
              "type": "string"
            },
            "text/plain": [
              "'Kumar'"
            ]
          },
          "metadata": {},
          "execution_count": 77
        }
      ]
    },
    {
      "cell_type": "code",
      "metadata": {
        "colab": {
          "base_uri": "https://localhost:8080/"
        },
        "id": "EfMcWzgZrB4g",
        "outputId": "d9b948b3-d072-46a0-92aa-8e702ba6db6b"
      },
      "source": [
        "dct.items()"
      ],
      "execution_count": 78,
      "outputs": [
        {
          "output_type": "execute_result",
          "data": {
            "text/plain": [
              "dict_items([('name', 'Rubin'), ('surname', 'Kumar'), ('std', 'IICSE'), ('section', 'B')])"
            ]
          },
          "metadata": {},
          "execution_count": 78
        }
      ]
    },
    {
      "cell_type": "code",
      "metadata": {
        "colab": {
          "base_uri": "https://localhost:8080/"
        },
        "id": "vIL9MpevrJyL",
        "outputId": "b96e382d-9213-4bf4-beb8-b1a189234f28"
      },
      "source": [
        "dct.keys()"
      ],
      "execution_count": 79,
      "outputs": [
        {
          "output_type": "execute_result",
          "data": {
            "text/plain": [
              "dict_keys(['name', 'surname', 'std', 'section'])"
            ]
          },
          "metadata": {},
          "execution_count": 79
        }
      ]
    },
    {
      "cell_type": "code",
      "metadata": {
        "colab": {
          "base_uri": "https://localhost:8080/"
        },
        "id": "0E7iynrlrPOw",
        "outputId": "4f8603e9-534f-40fb-c823-d343ac76a6bb"
      },
      "source": [
        "dct.update({\"college\":\"Sri Eshwar CBE\"})\n",
        "dct"
      ],
      "execution_count": 81,
      "outputs": [
        {
          "output_type": "execute_result",
          "data": {
            "text/plain": [
              "{'college': 'Sri Eshwar CBE',\n",
              " 'name': 'Rubin',\n",
              " 'section': 'B',\n",
              " 'std': 'IICSE',\n",
              " 'surname': 'Kumar'}"
            ]
          },
          "metadata": {},
          "execution_count": 81
        }
      ]
    },
    {
      "cell_type": "code",
      "metadata": {
        "colab": {
          "base_uri": "https://localhost:8080/"
        },
        "id": "YkokC4zzrk8M",
        "outputId": "905bc02e-3836-4a72-8d16-dc060a93fb54"
      },
      "source": [
        "dct.values()"
      ],
      "execution_count": 82,
      "outputs": [
        {
          "output_type": "execute_result",
          "data": {
            "text/plain": [
              "dict_values(['Rubin', 'Kumar', 'IICSE', 'B', 'Sri Eshwar CBE'])"
            ]
          },
          "metadata": {},
          "execution_count": 82
        }
      ]
    },
    {
      "cell_type": "code",
      "metadata": {
        "colab": {
          "base_uri": "https://localhost:8080/"
        },
        "id": "HBeKzLa1rtwh",
        "outputId": "aedebf21-cc8a-4830-bd56-035b97447653"
      },
      "source": [
        "#Expressing String with its Method\n",
        "string = \"my name is rubin kumar k\"\n",
        "type(string)"
      ],
      "execution_count": 83,
      "outputs": [
        {
          "output_type": "execute_result",
          "data": {
            "text/plain": [
              "str"
            ]
          },
          "metadata": {},
          "execution_count": 83
        }
      ]
    },
    {
      "cell_type": "code",
      "metadata": {
        "colab": {
          "base_uri": "https://localhost:8080/",
          "height": 35
        },
        "id": "_xYFWWHqr_H7",
        "outputId": "b157cd48-c772-4ddd-eff0-f5f157562cf1"
      },
      "source": [
        "string.capitalize()"
      ],
      "execution_count": 84,
      "outputs": [
        {
          "output_type": "execute_result",
          "data": {
            "application/vnd.google.colaboratory.intrinsic+json": {
              "type": "string"
            },
            "text/plain": [
              "'My name is rubin kumar k'"
            ]
          },
          "metadata": {},
          "execution_count": 84
        }
      ]
    },
    {
      "cell_type": "code",
      "metadata": {
        "colab": {
          "base_uri": "https://localhost:8080/"
        },
        "id": "zSZOYdCcsIkC",
        "outputId": "4dd709ea-c211-4dd9-de50-97b1a823eaf3"
      },
      "source": [
        "string.find(\"is\")"
      ],
      "execution_count": 90,
      "outputs": [
        {
          "output_type": "execute_result",
          "data": {
            "text/plain": [
              "8"
            ]
          },
          "metadata": {},
          "execution_count": 90
        }
      ]
    },
    {
      "cell_type": "code",
      "metadata": {
        "colab": {
          "base_uri": "https://localhost:8080/"
        },
        "id": "4e7_6ig6satp",
        "outputId": "38969396-24b7-4ed1-bbf7-ba6ac35c67c1"
      },
      "source": [
        "string.count(\"rubin\")"
      ],
      "execution_count": 91,
      "outputs": [
        {
          "output_type": "execute_result",
          "data": {
            "text/plain": [
              "1"
            ]
          },
          "metadata": {},
          "execution_count": 91
        }
      ]
    },
    {
      "cell_type": "code",
      "metadata": {
        "colab": {
          "base_uri": "https://localhost:8080/"
        },
        "id": "5-6VXxMNs0R4",
        "outputId": "6a2d5078-f226-4f75-c236-205c659a87fe"
      },
      "source": [
        "string.isnumeric()"
      ],
      "execution_count": 93,
      "outputs": [
        {
          "output_type": "execute_result",
          "data": {
            "text/plain": [
              "False"
            ]
          },
          "metadata": {},
          "execution_count": 93
        }
      ]
    },
    {
      "cell_type": "code",
      "metadata": {
        "colab": {
          "base_uri": "https://localhost:8080/"
        },
        "id": "nHG8fdm3tB6N",
        "outputId": "7ed32400-f436-485e-8328-5554ca4974df"
      },
      "source": [
        "string.isdigit()"
      ],
      "execution_count": 94,
      "outputs": [
        {
          "output_type": "execute_result",
          "data": {
            "text/plain": [
              "False"
            ]
          },
          "metadata": {},
          "execution_count": 94
        }
      ]
    }
  ]
}